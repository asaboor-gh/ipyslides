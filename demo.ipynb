{
 "cells": [
  {
   "attachments": {},
   "cell_type": "markdown",
   "metadata": {},
   "source": [
    "# IPySlides Demo\n",
    "This demo loads the most recent development state of `ipyslides` package."
   ]
  },
  {
   "cell_type": "code",
   "execution_count": null,
   "metadata": {},
   "outputs": [],
   "source": [
    "import ipyslides as isd \n",
    "\n",
    "slides = isd.Slides(\n",
    "    layout = dict(scroll = False, aspect=16/10), \n",
    "    logo = {'src':'slide.png','width':80}\n",
    ")\n",
    "# Apply these settings or change later in many flexible ways\n",
    "slides.settings.layout.scroll = True # As assignment\n",
    "slides.settings.logo(width=75) # As call\n",
    "slides"
   ]
  },
  {
   "cell_type": "markdown",
   "metadata": {},
   "source": [
    "# Slides from README.md"
   ]
  },
  {
   "cell_type": "code",
   "execution_count": null,
   "metadata": {},
   "outputs": [],
   "source": [
    "with open(\"README.md\", \"r\", encoding=\"utf-8\") as f:\n",
    "    s_first, *others, s_last = slides.build(0, content = f.read())"
   ]
  },
  {
   "cell_type": "code",
   "execution_count": null,
   "metadata": {},
   "outputs": [],
   "source": [
    "s_first.set_animation('slide_v')\n",
    "s_last.set_css({\n",
    "    '--bg1-color':'skyblue',\n",
    "    'p':{'color':'white'},\n",
    "    'h2':{'color':'olive'}\n",
    "})"
   ]
  },
  {
   "cell_type": "markdown",
   "metadata": {},
   "source": [
    "`-1` in below slides will update to correct slide number automatically on first run!"
   ]
  },
  {
   "cell_type": "code",
   "execution_count": null,
   "metadata": {},
   "outputs": [],
   "source": [
    "%%slide -1 -m\n",
    "# Last Slide\n",
    "--\n",
    "```python\n",
    "# code highlight block\n",
    "print('Something')\n",
    "```\n",
    "||#### Inline-Col A ||#### Inline-Col B  ||\n",
    "--\n",
    "```multicol\n",
    "::: block-green\n",
    "    # A\n",
    "\n",
    "+++\n",
    "# B {.Block-red}\n",
    "```\n",
    "```powershell\n",
    "Get-Content file.txt\n",
    "```\n",
    "::: block-blue success\n",
    "    All of this slide is created using markdown under\n",
    "    `%%slide`. You can acheive same with code below as well.\n",
    "    {.note}\n",
    "\n",
    "```python\n",
    "%%slide \n",
    "%%xmd\n",
    "markdown content goes here\n",
    "```\n",
    "\n",
    "This is export-only content, won't show up on main slides but will show up in exported slides\n",
    "{.export-only .note}"
   ]
  },
  {
   "cell_type": "code",
   "execution_count": null,
   "metadata": {},
   "outputs": [],
   "source": [
    "%%slide -1\n",
    "import numpy as np\n",
    "import matplotlib.pyplot as plt\n",
    "import pandas as pd\n",
    "import plotly.graph_objects as go\n",
    "\n",
    "def on_click(cdata,html):\n",
    "    html.value = pd.DataFrame(cdata or {}).to_html(index=False)\n",
    "\n",
    "def on_select(sdata, html):\n",
    "    plt.scatter(sdata.get('xs',[]),sdata.get('ys',[]))\n",
    "    html.value = slides.plt2html().value\n",
    "\n",
    "\n",
    "@slides.ei.interact(\n",
    "    on_select,\n",
    "    on_click,\n",
    "    fig = slides.patched_plotly(go.FigureWidget()), \n",
    "    html = slides.as_html_widget('**Select Box/Lesso on figure traces**'),\n",
    "    A = (1,10), omega = (0,20), phi = (0,10),\n",
    "    sdata = {'fig':'selected'}, cdata = {'fig':'clicked'},\n",
    "    app_layout={'left_sidebar':['A','omega','phi','html'], 'center': ['fig']},\n",
    "    grid_css={'.left-sidebar':{'background':'whitesmoke'}}, \n",
    "    )\n",
    "def plot(fig:go.FigureWidget, A, omega,phi): # adding type hint allows auto-completion inside function\n",
    "    fig.data = []\n",
    "    x = np.linspace(0,10,100)\n",
    "    fig.add_trace(go.Scatter(x=x, y=A*np.sin(omega*x + phi), mode='lines+markers'))"
   ]
  },
  {
   "cell_type": "markdown",
   "metadata": {},
   "source": [
    "Above code is equivalent to below. Although there are very few extra lines of code, but organization is too clear."
   ]
  },
  {
   "cell_type": "code",
   "execution_count": null,
   "metadata": {},
   "outputs": [],
   "source": [
    "%%slide -1\n",
    "import numpy as np\n",
    "import matplotlib.pyplot as plt\n",
    "import pandas as pd\n",
    "import plotly.graph_objects as go\n",
    "from ipyslides.interaction import InteractBase, callback\n",
    "\n",
    "class MyInteract(InteractBase):\n",
    "    def _interactive_params(self):\n",
    "        return dict( \n",
    "            fig = slides.patched_plotly(go.FigureWidget()), \n",
    "            html = slides.as_html_widget('**Select Box/Lesso on figure traces**'),\n",
    "            A = (1,10), omega = (0,20), phi = (0,10),\n",
    "            sdata = {'fig':'selected'}, cdata = {'fig':'clicked'},\n",
    "        )\n",
    "\n",
    "    @callback\n",
    "    def on_click(self, cdata,html):\n",
    "        html.value = pd.DataFrame(cdata or {}).to_html(index=False)\n",
    "    \n",
    "    @callback\n",
    "    def on_select(self, sdata, html):\n",
    "        plt.scatter(sdata.get('xs',[]),sdata.get('ys',[]))\n",
    "        html.value = slides.plt2html().value\n",
    "\n",
    "    @callback\n",
    "    def plot(self, fig:go.FigureWidget, A, omega,phi): # adding type hint allows auto-completion inside function\n",
    "        fig.data = []\n",
    "        x = np.linspace(0,10,100)\n",
    "        fig.add_trace(go.Scatter(x=x, y=A*np.sin(omega*x + phi), mode='lines+markers'))\n",
    "\n",
    "\n",
    "MyInteract(\n",
    "    app_layout={'left_sidebar':['A','omega','phi','html'], 'center': ['fig']},\n",
    "    grid_css={'.left-sidebar':{'background':'whitesmoke'}},)"
   ]
  },
  {
   "cell_type": "code",
   "execution_count": null,
   "metadata": {},
   "outputs": [],
   "source": [
    "%%slide -1\n",
    "slides.get_source()"
   ]
  },
  {
   "cell_type": "code",
   "execution_count": null,
   "metadata": {},
   "outputs": [],
   "source": []
  }
 ],
 "metadata": {
  "kernelspec": {
   "display_name": "ipyslides",
   "language": "python",
   "name": "python3"
  },
  "language_info": {
   "codemirror_mode": {
    "name": "ipython",
    "version": 3
   },
   "file_extension": ".py",
   "mimetype": "text/x-python",
   "name": "python",
   "nbconvert_exporter": "python",
   "pygments_lexer": "ipython3",
   "version": "3.8.10"
  }
 },
 "nbformat": 4,
 "nbformat_minor": 4
}
