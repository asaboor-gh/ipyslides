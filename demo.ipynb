{
 "cells": [
  {
   "attachments": {},
   "cell_type": "markdown",
   "metadata": {},
   "source": [
    "# IPySlides Demo\n",
    "This demo loads the most recent development state of `ipyslides` package."
   ]
  },
  {
   "cell_type": "code",
   "execution_count": null,
   "metadata": {},
   "outputs": [],
   "source": [
    "import ipyslides as isd \n",
    "\n",
    "slides = isd.Slides()\n",
    "\n",
    "slides.settings.set( # Use this function to set settings for all slides at once\n",
    "    layout = dict(scroll = False, aspect=16/10), # dafaut aspect is 16/9\n",
    "    bg_image = ('slide.png',), # Note trailing comma after string to make it tuple/You can also do it as dict(image_src='overview.jpg')\n",
    "    animation = dict(main = 'slide_v'),\n",
    ")\n",
    "\n",
    "\n",
    "slides.demo()"
   ]
  },
  {
   "cell_type": "markdown",
   "metadata": {},
   "source": [
    "# Extra Slides from README.md"
   ]
  },
  {
   "cell_type": "code",
   "execution_count": null,
   "metadata": {},
   "outputs": [],
   "source": [
    "with open(\"README.md\", \"r\", encoding=\"utf-8\") as f:\n",
    "    s25, *others, s_last = slides.from_markdown(start = 25, content = f.read(), trusted = True)"
   ]
  },
  {
   "cell_type": "code",
   "execution_count": null,
   "metadata": {},
   "outputs": [],
   "source": [
    "s25.set_animation('slide_v')\n",
    "s_last.set_css({\n",
    "    'background':'skyblue',\n",
    "    'p':{'color':'white'},\n",
    "    'h2':{'color':'olive'}\n",
    "})"
   ]
  },
  {
   "cell_type": "code",
   "execution_count": null,
   "metadata": {},
   "outputs": [],
   "source": [
    "%%slide 61 -m\n",
    "# Last Slide\n",
    "--\n",
    "```python run s\n",
    "%xmd **That is awsome**{.info}\n",
    "print('This is overriden print, so it shows where it get printed')\n",
    "```\n",
    "That is how above code block is written \\`{s}\\`:\n",
    "`{s}`\n",
    "||#### Inline-Col A ||#### Inline-Col B  ||\n",
    "--\n",
    "```multicol\n",
    "::: block-green\n",
    "    # A\n",
    "\n",
    "+++\n",
    "# B {.Block-red}\n",
    "```\n",
    "```powershell\n",
    "Get-Content file.txt\n",
    "```\n",
    "::: block-blue success\n",
    "    All of this slide is created using markdown under\n",
    "    `%%slide 61 -m`. You can acheive same with code below as well.\n",
    "    {.note}\n",
    "\n",
    "```python\n",
    "%%slide \n",
    "%%xmd\n",
    "markdown content goes here\n",
    "```\n",
    "\n",
    "This is export-only content, won't show up on main slides but will show up in exported slides\n",
    "{.export-only .note}"
   ]
  },
  {
   "cell_type": "code",
   "execution_count": null,
   "metadata": {},
   "outputs": [],
   "source": [
    "%%slide 62\n",
    "slides.get_source()"
   ]
  },
  {
   "cell_type": "code",
   "execution_count": null,
   "metadata": {},
   "outputs": [],
   "source": []
  }
 ],
 "metadata": {
  "kernelspec": {
   "display_name": "Python 3 (ipykernel)",
   "language": "python",
   "name": "python3"
  },
  "language_info": {
   "codemirror_mode": {
    "name": "ipython",
    "version": 3
   },
   "file_extension": ".py",
   "mimetype": "text/x-python",
   "name": "python",
   "nbconvert_exporter": "python",
   "pygments_lexer": "ipython3",
   "version": "3.8.10"
  },
  "vscode": {
   "interpreter": {
    "hash": "0e0043106df4a9422bd2d099f3533b4c8fc28ecd6f40fe8941ba5d2b8e9420a1"
   }
  }
 },
 "nbformat": 4,
 "nbformat_minor": 4
}
