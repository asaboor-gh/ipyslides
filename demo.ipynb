{
 "cells": [
  {
   "cell_type": "markdown",
   "metadata": {},
   "source": [
    "# IPySlides Demo\n",
    "This demo loads the most recent development state of the package."
   ]
  },
  {
   "cell_type": "code",
   "execution_count": 1,
   "metadata": {},
   "outputs": [
    {
     "data": {
      "application/vnd.jupyter.widget-view+json": {
       "model_id": "38d5d4830ae84dcb8bea6f7f3cbeddda",
       "version_major": 2,
       "version_minor": 0
      },
      "text/plain": [
       "VBox(children=(VBox(children=(HTML(value=\"<b style='color:var(--accent-color);font-size:24px;'>IPySlides</b>\")…"
      ]
     },
     "metadata": {},
     "output_type": "display_data"
    }
   ],
   "source": [
    "import ipyslides as isd \n",
    "\n",
    "slides = isd.Slides()\n",
    "\n",
    "slides.settings.set_layout(content_width='90%')\n",
    "slides.glassmorphic('overview.jpg')\n",
    "\n",
    "slides.demo()"
   ]
  },
  {
   "cell_type": "markdown",
   "metadata": {},
   "source": [
    "## Let's add something in overlay\n",
    "You can add almost anything that can be added in iframe.\n",
    "`tldraw` is my favorite due to very natural inking."
   ]
  },
  {
   "cell_type": "code",
   "execution_count": null,
   "metadata": {},
   "outputs": [],
   "source": [
    "slides.set_overlay_url('https://tldraw.com')"
   ]
  },
  {
   "cell_type": "markdown",
   "metadata": {},
   "source": [
    "# Extra Slides from README.md"
   ]
  },
  {
   "cell_type": "code",
   "execution_count": null,
   "metadata": {},
   "outputs": [],
   "source": [
    "s25, *others, s_last = slides.from_markdown(start = 25, file_or_str = 'README.md', trusted = True)"
   ]
  },
  {
   "cell_type": "code",
   "execution_count": null,
   "metadata": {},
   "outputs": [],
   "source": [
    "s25.set_animation('slide_v')\n",
    "s_last.set_css({\n",
    "    'background':'skyblue',\n",
    "    'p':{'color':'white'},\n",
    "    'h2':{'color':'olive'}\n",
    "})"
   ]
  },
  {
   "cell_type": "code",
   "execution_count": null,
   "metadata": {},
   "outputs": [],
   "source": [
    "%%slide 61 -m\n",
    "# Last Slide\n",
    "--\n",
    "```python run s\n",
    "%xmd **That is awsome**{.info}\n",
    "%notes This will show up on slide notes only\n",
    "print('This is overriden print, so it shows where it get printed')\n",
    "```\n",
    "That is how above code block is written &lcub;&lcub;s&rcub;&rcub;:\n",
    "{{s}}\n",
    "||#### Inline-Col A ||#### Inline-Col B  ||\n",
    "--\n",
    "```multicol\n",
    "::: block-green\n",
    "    # A\n",
    "\n",
    "+++\n",
    "# B {.Block-red}\n",
    "```\n",
    "```powershell\n",
    "Get-Content file.txt\n",
    "```\n",
    "::: block-blue success`\n",
    "    All of this slide is created using markdown under\n",
    "    `%%slide 61 -m`. You can acheive same with code below as well.\n",
    "    {.note}\n",
    "\n",
    "```python\n",
    "%%slide \n",
    "%%xmd\n",
    "markdown content goes here\n",
    "```\n",
    "This is report-only content, so can't see on slides\n",
    "{.report-only}\n",
    "\n",
    "This is slides-only content, won't show up in report\n",
    "{.slides-only .note}\n",
    "\n",
    "This is export-only content, won't show up on slides but will show up in exported report/slides\n",
    "{.export-only .note}"
   ]
  },
  {
   "cell_type": "code",
   "execution_count": null,
   "metadata": {},
   "outputs": [],
   "source": [
    "%%slide 62\n",
    "slides.get_source()"
   ]
  },
  {
   "cell_type": "code",
   "execution_count": null,
   "metadata": {},
   "outputs": [],
   "source": []
  }
 ],
 "metadata": {
  "kernelspec": {
   "display_name": "Python 3",
   "language": "python",
   "name": "python3"
  },
  "language_info": {
   "codemirror_mode": {
    "name": "ipython",
    "version": 3
   },
   "file_extension": ".py",
   "mimetype": "text/x-python",
   "name": "python",
   "nbconvert_exporter": "python",
   "pygments_lexer": "ipython3",
   "version": "3.7.6"
  },
  "vscode": {
   "interpreter": {
    "hash": "0e0043106df4a9422bd2d099f3533b4c8fc28ecd6f40fe8941ba5d2b8e9420a1"
   }
  }
 },
 "nbformat": 4,
 "nbformat_minor": 4
}
