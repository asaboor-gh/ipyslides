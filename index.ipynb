{
 "cells": [
  {
   "cell_type": "code",
   "execution_count": 1,
   "metadata": {},
   "outputs": [
    {
     "data": {
      "text/html": [
       "<div class='raw-text custom-print'>Starting from version 2.0, there is complete rewrite of CSS for slides, so custom CSS classes may not work! See `Slides.docs()` for more info.</div>"
      ],
      "text/plain": [
       "\"<div class='raw-text custom-print'>Starting from version 2.0, there is complete rewrite of CSS for slides, so custom CSS classes may not work! See `Slides.docs()` for more info.</div>\""
      ]
     },
     "metadata": {},
     "output_type": "display_data"
    }
   ],
   "source": [
    "import ipyslides as isd \n",
    "\n",
    "slides = isd.Slides()"
   ]
  },
  {
   "cell_type": "code",
   "execution_count": 2,
   "metadata": {},
   "outputs": [
    {
     "data": {
      "application/vnd.jupyter.widget-view+json": {
       "model_id": "81ee420b7e6f40ba862c884384e41f64",
       "version_major": 2,
       "version_minor": 0
      },
      "text/plain": [
       "VBox(children=(VBox(children=(HTML(value=\"<b style='color:var(--accent-color);font-size:24px;'>IPySlides</b>\")…"
      ]
     },
     "metadata": {},
     "output_type": "display_data"
    }
   ],
   "source": [
    "slides.demo()"
   ]
  },
  {
   "cell_type": "code",
   "execution_count": null,
   "metadata": {},
   "outputs": [],
   "source": []
  }
 ],
 "metadata": {
  "kernelspec": {
   "display_name": "Python 3",
   "language": "python",
   "name": "python3"
  },
  "language_info": {
   "codemirror_mode": {
    "name": "ipython",
    "version": 3
   },
   "file_extension": ".py",
   "mimetype": "text/x-python",
   "name": "python",
   "nbconvert_exporter": "python",
   "pygments_lexer": "ipython3",
   "version": "3.8.10"
  },
  "orig_nbformat": 4,
  "vscode": {
   "interpreter": {
    "hash": "0e0043106df4a9422bd2d099f3533b4c8fc28ecd6f40fe8941ba5d2b8e9420a1"
   }
  }
 },
 "nbformat": 4,
 "nbformat_minor": 2
}
